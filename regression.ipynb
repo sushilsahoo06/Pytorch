{
  "nbformat": 4,
  "nbformat_minor": 0,
  "metadata": {
    "colab": {
      "provenance": [],
      "authorship_tag": "ABX9TyNqUcaWNd1c/u9ulPcFQnKo",
      "include_colab_link": true
    },
    "kernelspec": {
      "name": "python3",
      "display_name": "Python 3"
    },
    "language_info": {
      "name": "python"
    }
  },
  "cells": [
    {
      "cell_type": "markdown",
      "metadata": {
        "id": "view-in-github",
        "colab_type": "text"
      },
      "source": [
        "<a href=\"https://colab.research.google.com/github/sushilsahoo06/Pytorch/blob/main/regression.ipynb\" target=\"_parent\"><img src=\"https://colab.research.google.com/assets/colab-badge.svg\" alt=\"Open In Colab\"/></a>"
      ]
    },
    {
      "cell_type": "code",
      "execution_count": null,
      "metadata": {
        "id": "hDXhntVp7QCO"
      },
      "outputs": [],
      "source": [
        "import numpy as np"
      ]
    },
    {
      "cell_type": "code",
      "source": [
        "#linear regression\n",
        "class linear_regression:\n",
        "#initiating the parameters(learning rate & no. of iterations)\n",
        "    def __init__(self,learnin_rate,no_of_iterations):\n",
        "      self.learnin_rate=learnin_rate\n",
        "      self.no_of_iterartions=no_of_iterations\n",
        "\n",
        "    def fit(self,):#fit the data model\n",
        "\n",
        "      def update_weights(self,):\n",
        "        def predict(self,);\n",
        "\n"
      ],
      "metadata": {
        "id": "uOmTYamJTKyI",
        "colab": {
          "base_uri": "https://localhost:8080/",
          "height": 106
        },
        "outputId": "5f605f42-dba4-42dc-caaa-7f1f09af1d67"
      },
      "execution_count": 1,
      "outputs": [
        {
          "output_type": "error",
          "ename": "IndentationError",
          "evalue": "expected an indented block after function definition on line 4 (<ipython-input-1-83303c326fe2>, line 5)",
          "traceback": [
            "\u001b[0;36m  File \u001b[0;32m\"<ipython-input-1-83303c326fe2>\"\u001b[0;36m, line \u001b[0;32m5\u001b[0m\n\u001b[0;31m    def update_weights(self,):\u001b[0m\n\u001b[0m    ^\u001b[0m\n\u001b[0;31mIndentationError\u001b[0m\u001b[0;31m:\u001b[0m expected an indented block after function definition on line 4\n"
          ]
        }
      ]
    },
    {
      "cell_type": "code",
      "source": [
        "from sklearn.linear_model import LogisticRegression\n",
        "model=LogisticRegression()\n"
      ],
      "metadata": {
        "id": "ipsatBMZbJp3"
      },
      "execution_count": null,
      "outputs": []
    },
    {
      "cell_type": "code",
      "source": [
        "model=linear_regression()"
      ],
      "metadata": {
        "id": "XGsP2iw_blDS"
      },
      "execution_count": null,
      "outputs": []
    }
  ]
}