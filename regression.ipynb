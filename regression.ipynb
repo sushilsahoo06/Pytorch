{
  "nbformat": 4,
  "nbformat_minor": 0,
  "metadata": {
    "colab": {
      "provenance": [],
      "authorship_tag": "ABX9TyOLTL9s4IAqQn4IvTmM8W+i",
      "include_colab_link": true
    },
    "kernelspec": {
      "name": "python3",
      "display_name": "Python 3"
    },
    "language_info": {
      "name": "python"
    }
  },
  "cells": [
    {
      "cell_type": "markdown",
      "metadata": {
        "id": "view-in-github",
        "colab_type": "text"
      },
      "source": [
        "<a href=\"https://colab.research.google.com/github/sushilsahoo06/Pytorch/blob/main/regression.ipynb\" target=\"_parent\"><img src=\"https://colab.research.google.com/assets/colab-badge.svg\" alt=\"Open In Colab\"/></a>"
      ]
    },
    {
      "cell_type": "code",
      "execution_count": 2,
      "metadata": {
        "id": "hDXhntVp7QCO"
      },
      "outputs": [],
      "source": [
        "import numpy as np"
      ]
    },
    {
      "cell_type": "code",
      "source": [
        "#linear regression\n",
        "class linear_regression:\n",
        "#initiating the parameters(learning rate & no. of iterations)\n",
        "    def __init__(self,learnin_rate,no_of_iterations):\n",
        "      self.learnin_rate=learnin_rate\n",
        "      self.no_of_iterartions=no_of_iterations\n",
        "\n",
        "    def fit(self,X,Y):\n",
        "      #no of traning examples & no of features\n",
        "      self.m,self.n=X.shape\n",
        "      #initiating the wight & bias\n",
        "      self.w=np.zeros(self.n)\n",
        "      self.b=0\n",
        "      self.X=X\n",
        "      self.Y=Y\n",
        "      #implementing gradient descent\n",
        "      for i in range(self.no_of_iterartions):\n",
        "        self.update_weights()\n",
        "\n",
        "      def update_weights(self,):\n",
        "        Y_prediction=self.predict(self.X)\n",
        "        #calculate gradients\n",
        "        dw=-(2*(self.X.T).dot(self.Y-Y_prediction))/self.m\n",
        "        db=-2*np.sum(self.y-Y_prediction)/self.m\n",
        "        #updating the weights\n",
        "        self.w=self.w-self.learnin_rate*dw\n",
        "        self.b=self.b-self.learnin_rate*db\n",
        "\n",
        "\n",
        "        def predict(self,X):\n",
        "          return X.dot(self.w)+self.b#-->y=mx+c\n",
        "\n",
        "\n",
        "\n"
      ],
      "metadata": {
        "id": "uOmTYamJTKyI"
      },
      "execution_count": 3,
      "outputs": []
    },
    {
      "cell_type": "code",
      "source": [
        "\n"
      ],
      "metadata": {
        "id": "ipsatBMZbJp3"
      },
      "execution_count": null,
      "outputs": []
    },
    {
      "cell_type": "code",
      "source": [],
      "metadata": {
        "id": "XGsP2iw_blDS"
      },
      "execution_count": null,
      "outputs": []
    }
  ]
}