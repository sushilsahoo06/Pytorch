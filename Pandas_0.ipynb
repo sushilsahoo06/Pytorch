{
  "nbformat": 4,
  "nbformat_minor": 0,
  "metadata": {
    "colab": {
      "provenance": [],
      "authorship_tag": "ABX9TyP270SUNchib2ReFy6Sl/qa",
      "include_colab_link": true
    },
    "kernelspec": {
      "name": "python3",
      "display_name": "Python 3"
    },
    "language_info": {
      "name": "python"
    }
  },
  "cells": [
    {
      "cell_type": "markdown",
      "metadata": {
        "id": "view-in-github",
        "colab_type": "text"
      },
      "source": [
        "<a href=\"https://colab.research.google.com/github/sushilsahoo06/Pytorch/blob/main/Pandas_0.ipynb\" target=\"_parent\"><img src=\"https://colab.research.google.com/assets/colab-badge.svg\" alt=\"Open In Colab\"/></a>"
      ]
    },
    {
      "cell_type": "markdown",
      "source": [
        "Pandas Library\n",
        "usefull for processing & analysis\n",
        "\n",
        "Pandas data frame:pandas dataFrame is two Diamensional tabular data structure with labelled axes(rows & columns)"
      ],
      "metadata": {
        "id": "6nt6dz5Oy7nw"
      }
    },
    {
      "cell_type": "code",
      "source": [],
      "metadata": {
        "id": "mM43XE7WzTKd"
      },
      "execution_count": null,
      "outputs": []
    }
  ]
}