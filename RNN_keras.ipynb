{
  "nbformat": 4,
  "nbformat_minor": 0,
  "metadata": {
    "colab": {
      "provenance": [],
      "authorship_tag": "ABX9TyN5eaxtU3abvCwV4pmCQ9Ms",
      "include_colab_link": true
    },
    "kernelspec": {
      "name": "python3",
      "display_name": "Python 3"
    },
    "language_info": {
      "name": "python"
    }
  },
  "cells": [
    {
      "cell_type": "markdown",
      "metadata": {
        "id": "view-in-github",
        "colab_type": "text"
      },
      "source": [
        "<a href=\"https://colab.research.google.com/github/sushilsahoo06/Pytorch/blob/main/RNN_keras.ipynb\" target=\"_parent\"><img src=\"https://colab.research.google.com/assets/colab-badge.svg\" alt=\"Open In Colab\"/></a>"
      ]
    },
    {
      "cell_type": "markdown",
      "source": [
        "how to convor text inputs to vectors"
      ],
      "metadata": {
        "id": "h1f_Mxhp9sKr"
      }
    },
    {
      "cell_type": "code",
      "execution_count": null,
      "metadata": {
        "id": "vqXWqGCtYajj"
      },
      "outputs": [],
      "source": [
        "import numpy as np\n",
        "docs=['go india',\n",
        "      'Hurry india',\n",
        "      'hip hip hurry',\n",
        "      'jitega bhai jitega RCB jitega',\n",
        "      'iss sala CUP namde',\n",
        "      'modi ji kii jai']\n"
      ]
    },
    {
      "cell_type": "code",
      "source": [
        "from tensorflow.keras.preprocessing.text import Tokenizer\n",
        "Tokenizer=Tokenizer(oov_token='sushil')\n",
        "Tokenizer.fit_on_texts(docs)"
      ],
      "metadata": {
        "id": "1LD-GlMoZRpb"
      },
      "execution_count": null,
      "outputs": []
    },
    {
      "cell_type": "code",
      "source": [
        "Tokenizer.word_index"
      ],
      "metadata": {
        "colab": {
          "base_uri": "https://localhost:8080/"
        },
        "id": "YGBTIbjgeThX",
        "outputId": "55ceca67-a95a-4b99-f55b-e02f507054e5"
      },
      "execution_count": null,
      "outputs": [
        {
          "output_type": "execute_result",
          "data": {
            "text/plain": [
              "{'sushil': 1,\n",
              " 'jitega': 2,\n",
              " 'india': 3,\n",
              " 'hurry': 4,\n",
              " 'hip': 5,\n",
              " 'go': 6,\n",
              " 'bhai': 7,\n",
              " 'rcb': 8,\n",
              " 'iss': 9,\n",
              " 'sala': 10,\n",
              " 'cup': 11,\n",
              " 'namde': 12,\n",
              " 'modi': 13,\n",
              " 'ji': 14,\n",
              " 'kii': 15,\n",
              " 'jai': 16}"
            ]
          },
          "metadata": {},
          "execution_count": 3
        }
      ]
    },
    {
      "cell_type": "code",
      "source": [
        "Tokenizer.word_counts"
      ],
      "metadata": {
        "id": "GX1Kpe73enqc",
        "colab": {
          "base_uri": "https://localhost:8080/"
        },
        "outputId": "d8e3ddef-da54-44b9-88f5-cf0174182c7e"
      },
      "execution_count": null,
      "outputs": [
        {
          "output_type": "execute_result",
          "data": {
            "text/plain": [
              "OrderedDict([('go', 1),\n",
              "             ('india', 2),\n",
              "             ('hurry', 2),\n",
              "             ('hip', 2),\n",
              "             ('jitega', 3),\n",
              "             ('bhai', 1),\n",
              "             ('rcb', 1),\n",
              "             ('iss', 1),\n",
              "             ('sala', 1),\n",
              "             ('cup', 1),\n",
              "             ('namde', 1),\n",
              "             ('modi', 1),\n",
              "             ('ji', 1),\n",
              "             ('kii', 1),\n",
              "             ('jai', 1)])"
            ]
          },
          "metadata": {},
          "execution_count": 4
        }
      ]
    },
    {
      "cell_type": "code",
      "source": [
        "sequence=Tokenizer.texts_to_sequences(docs)\n",
        "sequence"
      ],
      "metadata": {
        "colab": {
          "base_uri": "https://localhost:8080/"
        },
        "id": "3nGfdSp58tzS",
        "outputId": "dc73194c-4d67-47e0-a2ee-2992adc0688f"
      },
      "execution_count": null,
      "outputs": [
        {
          "output_type": "execute_result",
          "data": {
            "text/plain": [
              "[[6, 3], [4, 3], [5, 5, 4], [2, 7, 2, 8, 2], [9, 10, 11, 12], [13, 14, 15, 16]]"
            ]
          },
          "metadata": {},
          "execution_count": 5
        }
      ]
    },
    {
      "cell_type": "code",
      "source": [
        "from keras.utils import pad_sequences#add padding\n"
      ],
      "metadata": {
        "id": "OEi-QF6m9D4R"
      },
      "execution_count": null,
      "outputs": []
    },
    {
      "cell_type": "code",
      "source": [
        "sequence=pad_sequences(sequence,padding='post')\n",
        "sequence"
      ],
      "metadata": {
        "colab": {
          "base_uri": "https://localhost:8080/"
        },
        "id": "RDZst3-e9ZKP",
        "outputId": "9d9ad24e-5892-4080-8b96-c83ef4d7709c"
      },
      "execution_count": null,
      "outputs": [
        {
          "output_type": "execute_result",
          "data": {
            "text/plain": [
              "array([[ 6,  3,  0,  0,  0],\n",
              "       [ 4,  3,  0,  0,  0],\n",
              "       [ 5,  5,  4,  0,  0],\n",
              "       [ 2,  7,  2,  8,  2],\n",
              "       [ 9, 10, 11, 12,  0],\n",
              "       [13, 14, 15, 16,  0]], dtype=int32)"
            ]
          },
          "metadata": {},
          "execution_count": 9
        }
      ]
    },
    {
      "cell_type": "markdown",
      "source": [
        "Embedding layers\n"
      ],
      "metadata": {
        "id": "-Gn1DdwACePJ"
      }
    },
    {
      "cell_type": "code",
      "source": [
        "from tensorflow.keras.models import Sequential\n",
        "from tensorflow.keras.layers import Embedding\n",
        "from IPython import get_ipython\n",
        "from IPython.display import display"
      ],
      "metadata": {
        "id": "XastlN0JDEBe"
      },
      "execution_count": null,
      "outputs": []
    },
    {
      "cell_type": "code",
      "source": [
        "model=Sequential()\n",
        "model.add(Embedding(20,output_dim=2,input_length=7))#length output dimensions\n",
        "model.summary()"
      ],
      "metadata": {
        "colab": {
          "base_uri": "https://localhost:8080/",
          "height": 216
        },
        "id": "-Gev3MO5Chwt",
        "outputId": "0961c078-8f70-4418-8751-cca6d1b30b57"
      },
      "execution_count": null,
      "outputs": [
        {
          "output_type": "stream",
          "name": "stderr",
          "text": [
            "/usr/local/lib/python3.11/dist-packages/keras/src/layers/core/embedding.py:90: UserWarning: Argument `input_length` is deprecated. Just remove it.\n",
            "  warnings.warn(\n"
          ]
        },
        {
          "output_type": "display_data",
          "data": {
            "text/plain": [
              "\u001b[1mModel: \"sequential\"\u001b[0m\n"
            ],
            "text/html": [
              "<pre style=\"white-space:pre;overflow-x:auto;line-height:normal;font-family:Menlo,'DejaVu Sans Mono',consolas,'Courier New',monospace\"><span style=\"font-weight: bold\">Model: \"sequential\"</span>\n",
              "</pre>\n"
            ]
          },
          "metadata": {}
        },
        {
          "output_type": "display_data",
          "data": {
            "text/plain": [
              "┏━━━━━━━━━━━━━━━━━━━━━━━━━━━━━━━━━┳━━━━━━━━━━━━━━━━━━━━━━━━┳━━━━━━━━━━━━━━━┓\n",
              "┃\u001b[1m \u001b[0m\u001b[1mLayer (type)                   \u001b[0m\u001b[1m \u001b[0m┃\u001b[1m \u001b[0m\u001b[1mOutput Shape          \u001b[0m\u001b[1m \u001b[0m┃\u001b[1m \u001b[0m\u001b[1m      Param #\u001b[0m\u001b[1m \u001b[0m┃\n",
              "┡━━━━━━━━━━━━━━━━━━━━━━━━━━━━━━━━━╇━━━━━━━━━━━━━━━━━━━━━━━━╇━━━━━━━━━━━━━━━┩\n",
              "│ embedding (\u001b[38;5;33mEmbedding\u001b[0m)           │ ?                      │   \u001b[38;5;34m0\u001b[0m (unbuilt) │\n",
              "└─────────────────────────────────┴────────────────────────┴───────────────┘\n"
            ],
            "text/html": [
              "<pre style=\"white-space:pre;overflow-x:auto;line-height:normal;font-family:Menlo,'DejaVu Sans Mono',consolas,'Courier New',monospace\">┏━━━━━━━━━━━━━━━━━━━━━━━━━━━━━━━━━┳━━━━━━━━━━━━━━━━━━━━━━━━┳━━━━━━━━━━━━━━━┓\n",
              "┃<span style=\"font-weight: bold\"> Layer (type)                    </span>┃<span style=\"font-weight: bold\"> Output Shape           </span>┃<span style=\"font-weight: bold\">       Param # </span>┃\n",
              "┡━━━━━━━━━━━━━━━━━━━━━━━━━━━━━━━━━╇━━━━━━━━━━━━━━━━━━━━━━━━╇━━━━━━━━━━━━━━━┩\n",
              "│ embedding (<span style=\"color: #0087ff; text-decoration-color: #0087ff\">Embedding</span>)           │ ?                      │   <span style=\"color: #00af00; text-decoration-color: #00af00\">0</span> (unbuilt) │\n",
              "└─────────────────────────────────┴────────────────────────┴───────────────┘\n",
              "</pre>\n"
            ]
          },
          "metadata": {}
        },
        {
          "output_type": "display_data",
          "data": {
            "text/plain": [
              "\u001b[1m Total params: \u001b[0m\u001b[38;5;34m0\u001b[0m (0.00 B)\n"
            ],
            "text/html": [
              "<pre style=\"white-space:pre;overflow-x:auto;line-height:normal;font-family:Menlo,'DejaVu Sans Mono',consolas,'Courier New',monospace\"><span style=\"font-weight: bold\"> Total params: </span><span style=\"color: #00af00; text-decoration-color: #00af00\">0</span> (0.00 B)\n",
              "</pre>\n"
            ]
          },
          "metadata": {}
        },
        {
          "output_type": "display_data",
          "data": {
            "text/plain": [
              "\u001b[1m Trainable params: \u001b[0m\u001b[38;5;34m0\u001b[0m (0.00 B)\n"
            ],
            "text/html": [
              "<pre style=\"white-space:pre;overflow-x:auto;line-height:normal;font-family:Menlo,'DejaVu Sans Mono',consolas,'Courier New',monospace\"><span style=\"font-weight: bold\"> Trainable params: </span><span style=\"color: #00af00; text-decoration-color: #00af00\">0</span> (0.00 B)\n",
              "</pre>\n"
            ]
          },
          "metadata": {}
        },
        {
          "output_type": "display_data",
          "data": {
            "text/plain": [
              "\u001b[1m Non-trainable params: \u001b[0m\u001b[38;5;34m0\u001b[0m (0.00 B)\n"
            ],
            "text/html": [
              "<pre style=\"white-space:pre;overflow-x:auto;line-height:normal;font-family:Menlo,'DejaVu Sans Mono',consolas,'Courier New',monospace\"><span style=\"font-weight: bold\"> Non-trainable params: </span><span style=\"color: #00af00; text-decoration-color: #00af00\">0</span> (0.00 B)\n",
              "</pre>\n"
            ]
          },
          "metadata": {}
        }
      ]
    },
    {
      "cell_type": "code",
      "source": [
        "model.compile('adam',\"ally\")\n",
        "pred=model.predict(sequence)\n",
        "print(pred)"
      ],
      "metadata": {
        "colab": {
          "base_uri": "https://localhost:8080/"
        },
        "id": "iNYr61OzEEDO",
        "outputId": "f25e5221-cd0f-41d4-aa5e-3b53b6f705e1"
      },
      "execution_count": null,
      "outputs": [
        {
          "output_type": "stream",
          "name": "stdout",
          "text": [
            "\u001b[1m1/1\u001b[0m \u001b[32m━━━━━━━━━━━━━━━━━━━━\u001b[0m\u001b[37m\u001b[0m \u001b[1m0s\u001b[0m 269ms/step\n",
            "[[[-0.02128044 -0.01991071]\n",
            "  [ 0.01136122  0.00529897]\n",
            "  [-0.04242543 -0.01365734]\n",
            "  [-0.04242543 -0.01365734]\n",
            "  [-0.04242543 -0.01365734]]\n",
            "\n",
            " [[-0.01930387  0.02175919]\n",
            "  [ 0.01136122  0.00529897]\n",
            "  [-0.04242543 -0.01365734]\n",
            "  [-0.04242543 -0.01365734]\n",
            "  [-0.04242543 -0.01365734]]\n",
            "\n",
            " [[-0.03094598  0.03930006]\n",
            "  [-0.03094598  0.03930006]\n",
            "  [-0.01930387  0.02175919]\n",
            "  [-0.04242543 -0.01365734]\n",
            "  [-0.04242543 -0.01365734]]\n",
            "\n",
            " [[ 0.0029981   0.04219617]\n",
            "  [ 0.01424337 -0.0256979 ]\n",
            "  [ 0.0029981   0.04219617]\n",
            "  [ 0.00381612  0.01634843]\n",
            "  [ 0.0029981   0.04219617]]\n",
            "\n",
            " [[ 0.00383254 -0.03736182]\n",
            "  [ 0.0365358   0.04573499]\n",
            "  [ 0.02741169  0.00380832]\n",
            "  [-0.03330152 -0.04975579]\n",
            "  [-0.04242543 -0.01365734]]\n",
            "\n",
            " [[ 0.02804441 -0.03600876]\n",
            "  [-0.01959994 -0.0197289 ]\n",
            "  [-0.03226791  0.04017108]\n",
            "  [ 0.01460813 -0.01008314]\n",
            "  [-0.04242543 -0.01365734]]]\n"
          ]
        }
      ]
    }
  ]
}