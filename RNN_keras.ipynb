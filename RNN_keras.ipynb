{
  "nbformat": 4,
  "nbformat_minor": 0,
  "metadata": {
    "colab": {
      "provenance": [],
      "authorship_tag": "ABX9TyPzefjKOo6fg7Jg27v07W/h",
      "include_colab_link": true
    },
    "kernelspec": {
      "name": "python3",
      "display_name": "Python 3"
    },
    "language_info": {
      "name": "python"
    }
  },
  "cells": [
    {
      "cell_type": "markdown",
      "metadata": {
        "id": "view-in-github",
        "colab_type": "text"
      },
      "source": [
        "<a href=\"https://colab.research.google.com/github/sushilsahoo06/Pytorch/blob/main/RNN_keras.ipynb\" target=\"_parent\"><img src=\"https://colab.research.google.com/assets/colab-badge.svg\" alt=\"Open In Colab\"/></a>"
      ]
    },
    {
      "cell_type": "markdown",
      "source": [
        "how to convor text inputs to vectors"
      ],
      "metadata": {
        "id": "h1f_Mxhp9sKr"
      }
    },
    {
      "cell_type": "code",
      "execution_count": 1,
      "metadata": {
        "id": "vqXWqGCtYajj"
      },
      "outputs": [],
      "source": [
        "import numpy as np\n",
        "docs=['go india',\n",
        "      'Hurry india',\n",
        "      'hip hip hurry',\n",
        "      'jitega bhai jitega RCB jitega',\n",
        "      'iss sala CUP namde',\n",
        "      'modi ji kii jai']\n"
      ]
    },
    {
      "cell_type": "code",
      "source": [
        "from tensorflow.keras.preprocessing.text import Tokenizer\n",
        "Tokenizer=Tokenizer(oov_token='sushil')\n",
        "Tokenizer.fit_on_texts(docs)"
      ],
      "metadata": {
        "id": "1LD-GlMoZRpb"
      },
      "execution_count": 2,
      "outputs": []
    },
    {
      "cell_type": "code",
      "source": [
        "Tokenizer.word_index"
      ],
      "metadata": {
        "colab": {
          "base_uri": "https://localhost:8080/"
        },
        "id": "YGBTIbjgeThX",
        "outputId": "55ceca67-a95a-4b99-f55b-e02f507054e5"
      },
      "execution_count": 3,
      "outputs": [
        {
          "output_type": "execute_result",
          "data": {
            "text/plain": [
              "{'sushil': 1,\n",
              " 'jitega': 2,\n",
              " 'india': 3,\n",
              " 'hurry': 4,\n",
              " 'hip': 5,\n",
              " 'go': 6,\n",
              " 'bhai': 7,\n",
              " 'rcb': 8,\n",
              " 'iss': 9,\n",
              " 'sala': 10,\n",
              " 'cup': 11,\n",
              " 'namde': 12,\n",
              " 'modi': 13,\n",
              " 'ji': 14,\n",
              " 'kii': 15,\n",
              " 'jai': 16}"
            ]
          },
          "metadata": {},
          "execution_count": 3
        }
      ]
    },
    {
      "cell_type": "code",
      "source": [
        "Tokenizer.word_counts"
      ],
      "metadata": {
        "id": "GX1Kpe73enqc",
        "colab": {
          "base_uri": "https://localhost:8080/"
        },
        "outputId": "d8e3ddef-da54-44b9-88f5-cf0174182c7e"
      },
      "execution_count": 4,
      "outputs": [
        {
          "output_type": "execute_result",
          "data": {
            "text/plain": [
              "OrderedDict([('go', 1),\n",
              "             ('india', 2),\n",
              "             ('hurry', 2),\n",
              "             ('hip', 2),\n",
              "             ('jitega', 3),\n",
              "             ('bhai', 1),\n",
              "             ('rcb', 1),\n",
              "             ('iss', 1),\n",
              "             ('sala', 1),\n",
              "             ('cup', 1),\n",
              "             ('namde', 1),\n",
              "             ('modi', 1),\n",
              "             ('ji', 1),\n",
              "             ('kii', 1),\n",
              "             ('jai', 1)])"
            ]
          },
          "metadata": {},
          "execution_count": 4
        }
      ]
    },
    {
      "cell_type": "code",
      "source": [
        "sequence=Tokenizer.texts_to_sequences(docs)\n",
        "sequence"
      ],
      "metadata": {
        "colab": {
          "base_uri": "https://localhost:8080/"
        },
        "id": "3nGfdSp58tzS",
        "outputId": "dc73194c-4d67-47e0-a2ee-2992adc0688f"
      },
      "execution_count": 5,
      "outputs": [
        {
          "output_type": "execute_result",
          "data": {
            "text/plain": [
              "[[6, 3], [4, 3], [5, 5, 4], [2, 7, 2, 8, 2], [9, 10, 11, 12], [13, 14, 15, 16]]"
            ]
          },
          "metadata": {},
          "execution_count": 5
        }
      ]
    },
    {
      "cell_type": "code",
      "source": [
        "from keras.utils import pad_sequences#add padding\n"
      ],
      "metadata": {
        "id": "OEi-QF6m9D4R"
      },
      "execution_count": 8,
      "outputs": []
    },
    {
      "cell_type": "code",
      "source": [
        "sequence=pad_sequences(sequence,padding='post')\n",
        "sequence"
      ],
      "metadata": {
        "colab": {
          "base_uri": "https://localhost:8080/"
        },
        "id": "RDZst3-e9ZKP",
        "outputId": "9d9ad24e-5892-4080-8b96-c83ef4d7709c"
      },
      "execution_count": 9,
      "outputs": [
        {
          "output_type": "execute_result",
          "data": {
            "text/plain": [
              "array([[ 6,  3,  0,  0,  0],\n",
              "       [ 4,  3,  0,  0,  0],\n",
              "       [ 5,  5,  4,  0,  0],\n",
              "       [ 2,  7,  2,  8,  2],\n",
              "       [ 9, 10, 11, 12,  0],\n",
              "       [13, 14, 15, 16,  0]], dtype=int32)"
            ]
          },
          "metadata": {},
          "execution_count": 9
        }
      ]
    }
  ]
}