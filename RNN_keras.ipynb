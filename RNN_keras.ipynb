{
  "nbformat": 4,
  "nbformat_minor": 0,
  "metadata": {
    "colab": {
      "provenance": [],
      "authorship_tag": "ABX9TyNRrAeHg+FZOItspB8CUCTS",
      "include_colab_link": true
    },
    "kernelspec": {
      "name": "python3",
      "display_name": "Python 3"
    },
    "language_info": {
      "name": "python"
    }
  },
  "cells": [
    {
      "cell_type": "markdown",
      "metadata": {
        "id": "view-in-github",
        "colab_type": "text"
      },
      "source": [
        "<a href=\"https://colab.research.google.com/github/sushilsahoo06/Pytorch/blob/main/RNN_keras.ipynb\" target=\"_parent\"><img src=\"https://colab.research.google.com/assets/colab-badge.svg\" alt=\"Open In Colab\"/></a>"
      ]
    },
    {
      "cell_type": "code",
      "execution_count": 1,
      "metadata": {
        "id": "vqXWqGCtYajj"
      },
      "outputs": [],
      "source": [
        "import numpy as np\n",
        "docs=['go india',\n",
        "      'Hurry india',\n",
        "      'hip hip hurry',\n",
        "      'jitega bhai jitega RCB jitega',\n",
        "      'iss sala CUP namde',\n",
        "      'modi ji kii jai']\n"
      ]
    },
    {
      "cell_type": "code",
      "source": [
        "from tensorflow.keras.preprocessing.text import Tokenizer\n",
        "Tokenizer=Tokenizer(oov_token='sushil')\n",
        "Tokenizer.fit_on_texts(docs)"
      ],
      "metadata": {
        "id": "1LD-GlMoZRpb"
      },
      "execution_count": 2,
      "outputs": []
    },
    {
      "cell_type": "code",
      "source": [
        "Tokenizer.word_index"
      ],
      "metadata": {
        "colab": {
          "base_uri": "https://localhost:8080/"
        },
        "id": "YGBTIbjgeThX",
        "outputId": "55ceca67-a95a-4b99-f55b-e02f507054e5"
      },
      "execution_count": 3,
      "outputs": [
        {
          "output_type": "execute_result",
          "data": {
            "text/plain": [
              "{'sushil': 1,\n",
              " 'jitega': 2,\n",
              " 'india': 3,\n",
              " 'hurry': 4,\n",
              " 'hip': 5,\n",
              " 'go': 6,\n",
              " 'bhai': 7,\n",
              " 'rcb': 8,\n",
              " 'iss': 9,\n",
              " 'sala': 10,\n",
              " 'cup': 11,\n",
              " 'namde': 12,\n",
              " 'modi': 13,\n",
              " 'ji': 14,\n",
              " 'kii': 15,\n",
              " 'jai': 16}"
            ]
          },
          "metadata": {},
          "execution_count": 3
        }
      ]
    },
    {
      "cell_type": "code",
      "source": [
        "Tokenizer.word_counts"
      ],
      "metadata": {
        "id": "GX1Kpe73enqc",
        "colab": {
          "base_uri": "https://localhost:8080/"
        },
        "outputId": "d8e3ddef-da54-44b9-88f5-cf0174182c7e"
      },
      "execution_count": 4,
      "outputs": [
        {
          "output_type": "execute_result",
          "data": {
            "text/plain": [
              "OrderedDict([('go', 1),\n",
              "             ('india', 2),\n",
              "             ('hurry', 2),\n",
              "             ('hip', 2),\n",
              "             ('jitega', 3),\n",
              "             ('bhai', 1),\n",
              "             ('rcb', 1),\n",
              "             ('iss', 1),\n",
              "             ('sala', 1),\n",
              "             ('cup', 1),\n",
              "             ('namde', 1),\n",
              "             ('modi', 1),\n",
              "             ('ji', 1),\n",
              "             ('kii', 1),\n",
              "             ('jai', 1)])"
            ]
          },
          "metadata": {},
          "execution_count": 4
        }
      ]
    },
    {
      "cell_type": "code",
      "source": [],
      "metadata": {
        "id": "3nGfdSp58tzS"
      },
      "execution_count": null,
      "outputs": []
    }
  ]
}