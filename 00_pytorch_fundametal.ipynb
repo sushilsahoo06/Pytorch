{
  "nbformat": 4,
  "nbformat_minor": 0,
  "metadata": {
    "colab": {
      "provenance": [],
      "gpuType": "T4",
      "authorship_tag": "ABX9TyPh3aE4JtNwCY5aocq7lj4C",
      "include_colab_link": true
    },
    "kernelspec": {
      "name": "python3",
      "display_name": "Python 3"
    },
    "language_info": {
      "name": "python"
    },
    "accelerator": "GPU"
  },
  "cells": [
    {
      "cell_type": "markdown",
      "metadata": {
        "id": "view-in-github",
        "colab_type": "text"
      },
      "source": [
        "<a href=\"https://colab.research.google.com/github/sushilsahoo06/Pytorch/blob/main/00_pytorch_fundametal.ipynb\" target=\"_parent\"><img src=\"https://colab.research.google.com/assets/colab-badge.svg\" alt=\"Open In Colab\"/></a>"
      ]
    },
    {
      "cell_type": "code",
      "source": [
        "import numpy as np\n"
      ],
      "metadata": {
        "id": "o9bVhQ-ZdNND"
      },
      "execution_count": 2,
      "outputs": []
    },
    {
      "cell_type": "markdown",
      "source": [
        "list vs numpy"
      ],
      "metadata": {
        "id": "El6JyZ72elqb"
      }
    },
    {
      "cell_type": "code",
      "source": [
        "from time import process_time"
      ],
      "metadata": {
        "id": "LfQ-muU5ek8u"
      },
      "execution_count": 3,
      "outputs": []
    },
    {
      "cell_type": "code",
      "source": [
        "python_list=[i for i in range(10000)]\n",
        "start_time=process_time()\n",
        "python_list=[i+5 for i in python_list]\n",
        "end_time=process_time()\n",
        "print(end_time - start_time)"
      ],
      "metadata": {
        "colab": {
          "base_uri": "https://localhost:8080/"
        },
        "id": "at8g3Aeve2Np",
        "outputId": "d1d1317e-7544-4ca2-af4b-a235e59436eb"
      },
      "execution_count": 4,
      "outputs": [
        {
          "output_type": "stream",
          "name": "stdout",
          "text": [
            "0.0005905130000005698\n"
          ]
        }
      ]
    },
    {
      "cell_type": "code",
      "source": [
        "np_array=np.array([i for i in range(10000)])\n",
        "start_time=process_time()\n",
        "np_array+=5\n",
        "end_time=process_time()\n",
        "print(end_time - start_time)"
      ],
      "metadata": {
        "colab": {
          "base_uri": "https://localhost:8080/"
        },
        "id": "SWadhfGwfpym",
        "outputId": "aa420d0d-21d3-41d7-be2d-f284ce59ba3c"
      },
      "execution_count": 7,
      "outputs": [
        {
          "output_type": "stream",
          "name": "stdout",
          "text": [
            "0.00013295299999960264\n"
          ]
        }
      ]
    },
    {
      "cell_type": "markdown",
      "source": [
        "Numpy Array\n"
      ],
      "metadata": {
        "id": "xCX3tb5BhQWG"
      }
    },
    {
      "cell_type": "code",
      "source": [
        "list=[1,2,3,4,5]\n",
        "print(list)\n",
        "type(list)\n"
      ],
      "metadata": {
        "colab": {
          "base_uri": "https://localhost:8080/"
        },
        "id": "aum2YWgXhSm4",
        "outputId": "93db0eca-c22a-44ba-d817-3a1fd4841fc1"
      },
      "execution_count": 8,
      "outputs": [
        {
          "output_type": "stream",
          "name": "stdout",
          "text": [
            "[1, 2, 3, 4, 5]\n"
          ]
        },
        {
          "output_type": "execute_result",
          "data": {
            "text/plain": [
              "list"
            ]
          },
          "metadata": {},
          "execution_count": 8
        }
      ]
    },
    {
      "cell_type": "code",
      "source": [
        "np_array=np.array([1,2,3,4,5])\n",
        "print(np_array)\n",
        "type(np_array)"
      ],
      "metadata": {
        "colab": {
          "base_uri": "https://localhost:8080/"
        },
        "id": "RfoUc_IUhbxx",
        "outputId": "86304aaf-8670-481c-974b-8cffe8c0945e"
      },
      "execution_count": 9,
      "outputs": [
        {
          "output_type": "stream",
          "name": "stdout",
          "text": [
            "[1 2 3 4 5]\n"
          ]
        },
        {
          "output_type": "execute_result",
          "data": {
            "text/plain": [
              "numpy.ndarray"
            ]
          },
          "metadata": {},
          "execution_count": 9
        }
      ]
    },
    {
      "cell_type": "markdown",
      "source": [
        "creating a 1D array"
      ],
      "metadata": {
        "id": "ypQvvRDdhr6W"
      }
    },
    {
      "cell_type": "code",
      "source": [
        "a=np.array([1,2,3,4,5])\n",
        "print(a)"
      ],
      "metadata": {
        "colab": {
          "base_uri": "https://localhost:8080/"
        },
        "id": "p9TgiYZHhuXK",
        "outputId": "90bab009-eabc-4b9f-c5b5-30f302cc54b1"
      },
      "execution_count": 10,
      "outputs": [
        {
          "output_type": "stream",
          "name": "stdout",
          "text": [
            "[1 2 3 4 5]\n"
          ]
        }
      ]
    },
    {
      "cell_type": "code",
      "source": [
        "a.shape"
      ],
      "metadata": {
        "colab": {
          "base_uri": "https://localhost:8080/"
        },
        "id": "rJ7-sltsh1go",
        "outputId": "92f7a592-d527-487c-a3c1-2a73c996859b"
      },
      "execution_count": 11,
      "outputs": [
        {
          "output_type": "execute_result",
          "data": {
            "text/plain": [
              "(5,)"
            ]
          },
          "metadata": {},
          "execution_count": 11
        }
      ]
    },
    {
      "cell_type": "code",
      "source": [],
      "metadata": {
        "id": "PYG-95lZiATf"
      },
      "execution_count": null,
      "outputs": []
    }
  ]
}