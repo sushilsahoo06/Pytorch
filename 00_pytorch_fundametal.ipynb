{
  "nbformat": 4,
  "nbformat_minor": 0,
  "metadata": {
    "colab": {
      "provenance": [],
      "gpuType": "T4",
      "authorship_tag": "ABX9TyM0gwQ+VE4hP2ErUdT5EhRi",
      "include_colab_link": true
    },
    "kernelspec": {
      "name": "python3",
      "display_name": "Python 3"
    },
    "language_info": {
      "name": "python"
    },
    "accelerator": "GPU"
  },
  "cells": [
    {
      "cell_type": "markdown",
      "metadata": {
        "id": "view-in-github",
        "colab_type": "text"
      },
      "source": [
        "<a href=\"https://colab.research.google.com/github/sushilsahoo06/Pytorch/blob/main/00_pytorch_fundametal.ipynb\" target=\"_parent\"><img src=\"https://colab.research.google.com/assets/colab-badge.svg\" alt=\"Open In Colab\"/></a>"
      ]
    },
    {
      "cell_type": "code",
      "source": [
        "import numpy as np\n"
      ],
      "metadata": {
        "id": "o9bVhQ-ZdNND"
      },
      "execution_count": 2,
      "outputs": []
    },
    {
      "cell_type": "markdown",
      "source": [
        "list vs numpy"
      ],
      "metadata": {
        "id": "El6JyZ72elqb"
      }
    },
    {
      "cell_type": "code",
      "source": [
        "from time import process_time"
      ],
      "metadata": {
        "id": "LfQ-muU5ek8u"
      },
      "execution_count": 3,
      "outputs": []
    },
    {
      "cell_type": "code",
      "source": [
        "python_list=[i for i in range(10000)]\n",
        "start_time=process_time()\n",
        "python_list=[i+5 for i in python_list]\n",
        "end_time=process_time()\n",
        "print(end_time - start_time)"
      ],
      "metadata": {
        "colab": {
          "base_uri": "https://localhost:8080/"
        },
        "id": "at8g3Aeve2Np",
        "outputId": "d1d1317e-7544-4ca2-af4b-a235e59436eb"
      },
      "execution_count": 4,
      "outputs": [
        {
          "output_type": "stream",
          "name": "stdout",
          "text": [
            "0.0005905130000005698\n"
          ]
        }
      ]
    },
    {
      "cell_type": "code",
      "source": [
        "np_array=np.array([i for i in range(10000)])\n",
        "start_time=process_time()\n",
        "np_array+=5\n",
        "end_time=process_time()\n",
        "print(end_time - start_time)"
      ],
      "metadata": {
        "colab": {
          "base_uri": "https://localhost:8080/"
        },
        "id": "SWadhfGwfpym",
        "outputId": "aa420d0d-21d3-41d7-be2d-f284ce59ba3c"
      },
      "execution_count": 7,
      "outputs": [
        {
          "output_type": "stream",
          "name": "stdout",
          "text": [
            "0.00013295299999960264\n"
          ]
        }
      ]
    },
    {
      "cell_type": "markdown",
      "source": [
        "Numpy Array\n"
      ],
      "metadata": {
        "id": "xCX3tb5BhQWG"
      }
    },
    {
      "cell_type": "code",
      "source": [
        "list=[1,2,3,4,5]\n",
        "print(list)\n",
        "type(list)\n"
      ],
      "metadata": {
        "colab": {
          "base_uri": "https://localhost:8080/"
        },
        "id": "aum2YWgXhSm4",
        "outputId": "93db0eca-c22a-44ba-d817-3a1fd4841fc1"
      },
      "execution_count": 8,
      "outputs": [
        {
          "output_type": "stream",
          "name": "stdout",
          "text": [
            "[1, 2, 3, 4, 5]\n"
          ]
        },
        {
          "output_type": "execute_result",
          "data": {
            "text/plain": [
              "list"
            ]
          },
          "metadata": {},
          "execution_count": 8
        }
      ]
    },
    {
      "cell_type": "code",
      "source": [
        "np_array=np.array([1,2,3,4,5])\n",
        "print(np_array)\n",
        "type(np_array)"
      ],
      "metadata": {
        "colab": {
          "base_uri": "https://localhost:8080/"
        },
        "id": "RfoUc_IUhbxx",
        "outputId": "86304aaf-8670-481c-974b-8cffe8c0945e"
      },
      "execution_count": 9,
      "outputs": [
        {
          "output_type": "stream",
          "name": "stdout",
          "text": [
            "[1 2 3 4 5]\n"
          ]
        },
        {
          "output_type": "execute_result",
          "data": {
            "text/plain": [
              "numpy.ndarray"
            ]
          },
          "metadata": {},
          "execution_count": 9
        }
      ]
    },
    {
      "cell_type": "markdown",
      "source": [
        "creating a 1D array"
      ],
      "metadata": {
        "id": "ypQvvRDdhr6W"
      }
    },
    {
      "cell_type": "code",
      "source": [
        "a=np.array([1,2,3,4,5])\n",
        "print(a)"
      ],
      "metadata": {
        "colab": {
          "base_uri": "https://localhost:8080/"
        },
        "id": "p9TgiYZHhuXK",
        "outputId": "90bab009-eabc-4b9f-c5b5-30f302cc54b1"
      },
      "execution_count": 10,
      "outputs": [
        {
          "output_type": "stream",
          "name": "stdout",
          "text": [
            "[1 2 3 4 5]\n"
          ]
        }
      ]
    },
    {
      "cell_type": "code",
      "source": [
        "a.shape"
      ],
      "metadata": {
        "colab": {
          "base_uri": "https://localhost:8080/"
        },
        "id": "rJ7-sltsh1go",
        "outputId": "92f7a592-d527-487c-a3c1-2a73c996859b"
      },
      "execution_count": 11,
      "outputs": [
        {
          "output_type": "execute_result",
          "data": {
            "text/plain": [
              "(5,)"
            ]
          },
          "metadata": {},
          "execution_count": 11
        }
      ]
    },
    {
      "cell_type": "code",
      "source": [
        "b=np.array([(1,2,3,4),(5,6,7,8)])##array of rows-2 & col-4\n",
        "print(b)\n",
        "b.shape"
      ],
      "metadata": {
        "colab": {
          "base_uri": "https://localhost:8080/"
        },
        "id": "PYG-95lZiATf",
        "outputId": "16ddec47-6764-418f-bb59-a64e84c60e82"
      },
      "execution_count": 12,
      "outputs": [
        {
          "output_type": "stream",
          "name": "stdout",
          "text": [
            "[[1 2 3 4]\n",
            " [5 6 7 8]]\n"
          ]
        },
        {
          "output_type": "execute_result",
          "data": {
            "text/plain": [
              "(2, 4)"
            ]
          },
          "metadata": {},
          "execution_count": 12
        }
      ]
    },
    {
      "cell_type": "code",
      "source": [
        "# create a numpy array of zeros\n",
        "x=np.zeros((4,5))\n",
        "print(x)\n"
      ],
      "metadata": {
        "colab": {
          "base_uri": "https://localhost:8080/"
        },
        "id": "Hj2U3eHaic9H",
        "outputId": "22e6f343-ac94-43ce-9a42-275009e45d3d"
      },
      "execution_count": 13,
      "outputs": [
        {
          "output_type": "stream",
          "name": "stdout",
          "text": [
            "[[0. 0. 0. 0. 0.]\n",
            " [0. 0. 0. 0. 0.]\n",
            " [0. 0. 0. 0. 0.]\n",
            " [0. 0. 0. 0. 0.]]\n"
          ]
        }
      ]
    },
    {
      "cell_type": "code",
      "source": [
        "#create a numpy array of ones\n",
        "y=np.ones((3,3))\n",
        "print(y)"
      ],
      "metadata": {
        "colab": {
          "base_uri": "https://localhost:8080/"
        },
        "id": "77wVYNaLjPbS",
        "outputId": "e5c789a7-3b26-4c38-9a72-bdda6cef9f13"
      },
      "execution_count": 14,
      "outputs": [
        {
          "output_type": "stream",
          "name": "stdout",
          "text": [
            "[[1. 1. 1.]\n",
            " [1. 1. 1.]\n",
            " [1. 1. 1.]]\n"
          ]
        }
      ]
    },
    {
      "cell_type": "code",
      "source": [
        "# array of a perticular value\n",
        "z=np.full((5,4),5)\n",
        "print(z)"
      ],
      "metadata": {
        "colab": {
          "base_uri": "https://localhost:8080/"
        },
        "id": "l-1GU0_Xj5qJ",
        "outputId": "866d26ed-bc71-4343-95d9-752d7fa4e3e9"
      },
      "execution_count": 15,
      "outputs": [
        {
          "output_type": "stream",
          "name": "stdout",
          "text": [
            "[[5 5 5 5]\n",
            " [5 5 5 5]\n",
            " [5 5 5 5]\n",
            " [5 5 5 5]\n",
            " [5 5 5 5]]\n"
          ]
        }
      ]
    },
    {
      "cell_type": "code",
      "source": [
        "# create an ientity matrix\n",
        "a=np.eye(4)\n",
        "print(a)"
      ],
      "metadata": {
        "colab": {
          "base_uri": "https://localhost:8080/"
        },
        "id": "x2m5naY5khB8",
        "outputId": "90c5b733-e2f5-472f-b547-210c9a974dcc"
      },
      "execution_count": 16,
      "outputs": [
        {
          "output_type": "stream",
          "name": "stdout",
          "text": [
            "[[1. 0. 0. 0.]\n",
            " [0. 1. 0. 0.]\n",
            " [0. 0. 1. 0.]\n",
            " [0. 0. 0. 1.]]\n"
          ]
        }
      ]
    },
    {
      "cell_type": "code",
      "source": [
        "# create a numpy array with random values\n",
        "b=np.random.random((4,5))\n",
        "print(b)"
      ],
      "metadata": {
        "colab": {
          "base_uri": "https://localhost:8080/"
        },
        "id": "an8k0uizlFxp",
        "outputId": "ffaaa653-b1e3-437f-82f5-858e0b41abc5"
      },
      "execution_count": 17,
      "outputs": [
        {
          "output_type": "stream",
          "name": "stdout",
          "text": [
            "[[0.52582768 0.09298407 0.13045673 0.11318734 0.37626651]\n",
            " [0.49485619 0.71856333 0.44837773 0.73383834 0.09599275]\n",
            " [0.78220618 0.69214678 0.99098291 0.30693025 0.44137235]\n",
            " [0.42880138 0.20846721 0.15943587 0.58316084 0.79767009]]\n"
          ]
        }
      ]
    },
    {
      "cell_type": "code",
      "source": [
        "# random integer value array with a spesific range\n",
        "c=np.random.randint(10,100,(3,5))\n",
        "print(c)"
      ],
      "metadata": {
        "colab": {
          "base_uri": "https://localhost:8080/"
        },
        "id": "aogLwr9Nld6t",
        "outputId": "5f33c126-25ae-4ba2-bcb9-a2ea37ea7fcb"
      },
      "execution_count": 18,
      "outputs": [
        {
          "output_type": "stream",
          "name": "stdout",
          "text": [
            "[[90 97 42 24 17]\n",
            " [13 37 24 24 65]\n",
            " [84 71 73 15 36]]\n"
          ]
        }
      ]
    },
    {
      "cell_type": "code",
      "source": [
        "# array of eveny spaced values -->specifying the number of values required\n",
        "d=np.linspace(10,30,5)\n",
        "print(d)"
      ],
      "metadata": {
        "colab": {
          "base_uri": "https://localhost:8080/"
        },
        "id": "rco_HioLlxAv",
        "outputId": "0d3966dd-c782-4053-9277-d102c4941280"
      },
      "execution_count": 20,
      "outputs": [
        {
          "output_type": "stream",
          "name": "stdout",
          "text": [
            "[10. 15. 20. 25. 30.]\n"
          ]
        }
      ]
    },
    {
      "cell_type": "code",
      "source": [
        "# array of eveny spaced values -->specifying steps\n",
        "e=np.arange(10,30,5)\n",
        "print(e)\n"
      ],
      "metadata": {
        "colab": {
          "base_uri": "https://localhost:8080/"
        },
        "id": "yBEikDn0mxfX",
        "outputId": "38bbffcc-90d5-49f6-e45d-129a9ea17f7a"
      },
      "execution_count": 21,
      "outputs": [
        {
          "output_type": "stream",
          "name": "stdout",
          "text": [
            "[10 15 20 25]\n"
          ]
        }
      ]
    },
    {
      "cell_type": "code",
      "source": [
        "#covert a list to a numpy array\n",
        "list_2=[10,20,30,40,50]\n",
        "np_array=np.asarray(list_2)\n",
        "print(np_array)\n",
        "type(np_array)"
      ],
      "metadata": {
        "colab": {
          "base_uri": "https://localhost:8080/"
        },
        "id": "OHGuFZd9orDr",
        "outputId": "7c31b93c-7ccc-47c4-fbf3-abd9f925f612"
      },
      "execution_count": 22,
      "outputs": [
        {
          "output_type": "stream",
          "name": "stdout",
          "text": [
            "[10 20 30 40 50]\n"
          ]
        },
        {
          "output_type": "execute_result",
          "data": {
            "text/plain": [
              "numpy.ndarray"
            ]
          },
          "metadata": {},
          "execution_count": 22
        }
      ]
    },
    {
      "cell_type": "markdown",
      "source": [
        "Analysing a numpy arraay"
      ],
      "metadata": {
        "id": "9mPywaavpEXB"
      }
    },
    {
      "cell_type": "code",
      "source": [
        "a=np.random.randint(10,100,(3,4))\n",
        "print(a)\n",
        "print(a.shape)\n",
        "print(a.ndim)#number of dimensions\n",
        "print(a.size)"
      ],
      "metadata": {
        "colab": {
          "base_uri": "https://localhost:8080/"
        },
        "id": "p0-ORjsdpCjT",
        "outputId": "1cb68e49-6baf-492b-ef56-abe9604cf18e"
      },
      "execution_count": 26,
      "outputs": [
        {
          "output_type": "stream",
          "name": "stdout",
          "text": [
            "[[63 60 14 53]\n",
            " [90 88 96 39]\n",
            " [21 32 54 72]]\n",
            "(3, 4)\n",
            "2\n",
            "12\n"
          ]
        }
      ]
    },
    {
      "cell_type": "code",
      "source": [],
      "metadata": {
        "id": "NSIzHjT-pTdq"
      },
      "execution_count": null,
      "outputs": []
    },
    {
      "cell_type": "markdown",
      "source": [
        "Mathemetical operactions on a np array"
      ],
      "metadata": {
        "id": "eccmMNvWp1tW"
      }
    },
    {
      "cell_type": "code",
      "source": [
        "list_1=[1,2,3,4,5]\n",
        "lists_2=[6,7,8,9]\n",
        "print(list_1+lists_2)#concatinate or joins two lists"
      ],
      "metadata": {
        "colab": {
          "base_uri": "https://localhost:8080/"
        },
        "id": "_xO7juBap6pv",
        "outputId": "053de5d4-b757-4745-b2de-4b18b07419a4"
      },
      "execution_count": 27,
      "outputs": [
        {
          "output_type": "stream",
          "name": "stdout",
          "text": [
            "[1, 2, 3, 4, 5, 6, 7, 8, 9]\n"
          ]
        }
      ]
    },
    {
      "cell_type": "code",
      "source": [
        "a=np.random.randint(10,30,(4,4))\n",
        "b=np.random.randint(20,40,(4,4))\n",
        "print(a)\n",
        "print(b)\n",
        "print(a+b)\n",
        "print(a-b)\n",
        "print(a*b)\n",
        "print(a/b)"
      ],
      "metadata": {
        "colab": {
          "base_uri": "https://localhost:8080/"
        },
        "id": "MFLyDbO7qH1Y",
        "outputId": "66293da3-d49b-4c4f-e0db-99a621501106"
      },
      "execution_count": 28,
      "outputs": [
        {
          "output_type": "stream",
          "name": "stdout",
          "text": [
            "[[29 16 22 16]\n",
            " [24 19 28 14]\n",
            " [20 22 25 17]\n",
            " [23 14 26 13]]\n",
            "[[36 34 24 29]\n",
            " [33 20 28 34]\n",
            " [36 32 20 35]\n",
            " [34 33 28 35]]\n",
            "[[65 50 46 45]\n",
            " [57 39 56 48]\n",
            " [56 54 45 52]\n",
            " [57 47 54 48]]\n",
            "[[ -7 -18  -2 -13]\n",
            " [ -9  -1   0 -20]\n",
            " [-16 -10   5 -18]\n",
            " [-11 -19  -2 -22]]\n",
            "[[1044  544  528  464]\n",
            " [ 792  380  784  476]\n",
            " [ 720  704  500  595]\n",
            " [ 782  462  728  455]]\n",
            "[[0.80555556 0.47058824 0.91666667 0.55172414]\n",
            " [0.72727273 0.95       1.         0.41176471]\n",
            " [0.55555556 0.6875     1.25       0.48571429]\n",
            " [0.67647059 0.42424242 0.92857143 0.37142857]]\n"
          ]
        }
      ]
    },
    {
      "cell_type": "code",
      "source": [],
      "metadata": {
        "colab": {
          "base_uri": "https://localhost:8080/"
        },
        "id": "D_NU6xW4qZSn",
        "outputId": "f58fae86-3521-4f68-c398-2e5483ef796b"
      },
      "execution_count": 29,
      "outputs": [
        {
          "output_type": "stream",
          "name": "stdout",
          "text": [
            "[[29 16 22 16]\n",
            " [24 19 28 14]\n",
            " [20 22 25 17]\n",
            " [23 14 26 13]]\n",
            "[[36 34 24 29]\n",
            " [33 20 28 34]\n",
            " [36 32 20 35]\n",
            " [34 33 28 35]]\n"
          ]
        }
      ]
    },
    {
      "cell_type": "code",
      "source": [
        "a=np.random.randint(10,30,(4,4))#using numpy\n",
        "b=np.random.randint(20,40,(4,4))\n",
        "print(a)\n",
        "print(b)\n",
        "print(np.add(a,b))\n",
        "print(np.subtract(a,b))\n",
        "print(np.multiply(a,b))\n",
        "print(np.divide(a,b))"
      ],
      "metadata": {
        "colab": {
          "base_uri": "https://localhost:8080/"
        },
        "id": "7dEHmDFZqoex",
        "outputId": "f5efa064-f1b4-4ce6-be5e-e0fdd5326b50"
      },
      "execution_count": 30,
      "outputs": [
        {
          "output_type": "stream",
          "name": "stdout",
          "text": [
            "[[25 16 19 13]\n",
            " [10 12 23 25]\n",
            " [12 29 15 25]\n",
            " [23 16 22 13]]\n",
            "[[22 33 33 35]\n",
            " [23 20 24 29]\n",
            " [21 20 25 29]\n",
            " [37 24 33 35]]\n",
            "[[47 49 52 48]\n",
            " [33 32 47 54]\n",
            " [33 49 40 54]\n",
            " [60 40 55 48]]\n",
            "[[  3 -17 -14 -22]\n",
            " [-13  -8  -1  -4]\n",
            " [ -9   9 -10  -4]\n",
            " [-14  -8 -11 -22]]\n",
            "[[550 528 627 455]\n",
            " [230 240 552 725]\n",
            " [252 580 375 725]\n",
            " [851 384 726 455]]\n",
            "[[1.13636364 0.48484848 0.57575758 0.37142857]\n",
            " [0.43478261 0.6        0.95833333 0.86206897]\n",
            " [0.57142857 1.45       0.6        0.86206897]\n",
            " [0.62162162 0.66666667 0.66666667 0.37142857]]\n"
          ]
        }
      ]
    },
    {
      "cell_type": "code",
      "source": [
        "#tanspose the matrix\n",
        "trans=np.transpose(a)\n",
        "print(trans)"
      ],
      "metadata": {
        "colab": {
          "base_uri": "https://localhost:8080/"
        },
        "id": "VCAuZJvYq93O",
        "outputId": "ed20ebd8-e5a6-4aa1-efbc-d01385067507"
      },
      "execution_count": 31,
      "outputs": [
        {
          "output_type": "stream",
          "name": "stdout",
          "text": [
            "[[25 10 12 23]\n",
            " [16 12 29 16]\n",
            " [19 23 15 22]\n",
            " [13 25 25 13]]\n"
          ]
        }
      ]
    },
    {
      "cell_type": "code",
      "source": [
        "#reshaping array-->not working\n",
        "a=np.random.randint(10,20,(3,3))\n",
        "print(a)\n",
        "print(a.shape)\n",
        "c=a.reshape(1,9)\n",
        "print(c)\n",
        "print(c.shape)\n"
      ],
      "metadata": {
        "colab": {
          "base_uri": "https://localhost:8080/"
        },
        "id": "qaWk-xkArZfU",
        "outputId": "21d62486-66ed-4ed6-eee7-a456270b7866"
      },
      "execution_count": 43,
      "outputs": [
        {
          "output_type": "stream",
          "name": "stdout",
          "text": [
            "[[14 18 19]\n",
            " [16 16 14]\n",
            " [11 19 12]]\n",
            "(3, 3)\n",
            "[[14 18 19 16 16 14 11 19 12]]\n",
            "(1, 9)\n"
          ]
        }
      ]
    },
    {
      "cell_type": "code",
      "source": [],
      "metadata": {
        "id": "HwyoYHrYsUTc"
      },
      "execution_count": null,
      "outputs": []
    }
  ]
}